{
 "cells": [
  {
   "cell_type": "markdown",
   "id": "8b087eac",
   "metadata": {},
   "source": [
    "#### Build a simple workflow or graph using LangGraph\n",
    "\n",
    "#### State"
   ]
  },
  {
   "cell_type": "code",
   "execution_count": 14,
   "id": "3f405e8d",
   "metadata": {},
   "outputs": [],
   "source": [
    "from typing_extensions import TypedDict\n",
    "\n",
    "from langgraph.graph import StateGraph, START, END\n",
    "\n",
    "## Reducers\n",
    "from typing import Annotated\n",
    "from langgraph.graph.message import add_messages"
   ]
  },
  {
   "cell_type": "code",
   "execution_count": 15,
   "id": "233a772d",
   "metadata": {},
   "outputs": [],
   "source": [
    "class State(TypedDict):\n",
    "    messages:Annotated[list,add_messages]"
   ]
  },
  {
   "cell_type": "code",
   "execution_count": 18,
   "id": "7d364562",
   "metadata": {},
   "outputs": [],
   "source": [
    "import os\n",
    "from dotenv import load_dotenv\n",
    "load_dotenv()\n",
    "\n",
    "os.environ[\"GROQ_API_KEY\"]=os.getenv(\"GROQ_API_KEY\")\n"
   ]
  },
  {
   "cell_type": "code",
   "execution_count": 23,
   "id": "685ec984",
   "metadata": {},
   "outputs": [
    {
     "name": "stdout",
     "output_type": "stream",
     "text": [
      "content='<think>\\n\\n</think>\\n\\nHello! How can I assist you today? 😊' additional_kwargs={} response_metadata={'token_usage': {'completion_tokens': 16, 'prompt_tokens': 4, 'total_tokens': 20, 'completion_time': 0.08055101, 'prompt_time': 0.002070283, 'queue_time': 0.20663020699999998, 'total_time': 0.082621293}, 'model_name': 'deepseek-r1-distill-llama-70b', 'system_fingerprint': 'fp_1bbe7845ec', 'finish_reason': 'stop', 'logprobs': None} id='run--a3e9cb89-bdf2-4d12-a319-b7e679af7f0d-0' usage_metadata={'input_tokens': 4, 'output_tokens': 16, 'total_tokens': 20}\n"
     ]
    }
   ],
   "source": [
    "from langchain_groq import ChatGroq\n",
    "\n",
    "llm_groq= ChatGroq(model=\"deepseek-r1-distill-llama-70b\")\n",
    "print(llm_groq.invoke(\"Hi\"));"
   ]
  },
  {
   "cell_type": "code",
   "execution_count": null,
   "id": "aa36b355",
   "metadata": {},
   "outputs": [],
   "source": []
  },
  {
   "cell_type": "code",
   "execution_count": null,
   "id": "07ba5afa",
   "metadata": {},
   "outputs": [],
   "source": []
  },
  {
   "cell_type": "code",
   "execution_count": null,
   "id": "2b16fa99",
   "metadata": {},
   "outputs": [],
   "source": []
  },
  {
   "cell_type": "code",
   "execution_count": null,
   "id": "163c919f",
   "metadata": {},
   "outputs": [],
   "source": []
  },
  {
   "cell_type": "code",
   "execution_count": null,
   "id": "daf6c98b",
   "metadata": {},
   "outputs": [],
   "source": []
  },
  {
   "cell_type": "code",
   "execution_count": null,
   "id": "cf9f77d1",
   "metadata": {},
   "outputs": [],
   "source": []
  },
  {
   "cell_type": "code",
   "execution_count": 43,
   "id": "c3dbe753",
   "metadata": {},
   "outputs": [
    {
     "name": "stderr",
     "output_type": "stream",
     "text": [
      "Device set to use cpu\n"
     ]
    },
    {
     "name": "stdout",
     "output_type": "stream",
     "text": [
      "Summary of PR diff:\n",
      " User's view has been added to a yaml file on GitHub's pull request page . The code is available to download and use for the latest version of the app .\n"
     ]
    }
   ],
   "source": [
    "import requests\n",
    "from langgraph.graph import StateGraph, END\n",
    "from transformers import pipeline\n",
    "from typing import TypedDict, Optional\n",
    "from transformers import pipeline, AutoTokenizer\n",
    "\n",
    "model_name = \"sshleifer/distilbart-cnn-12-6\"\n",
    "summarizer = pipeline(\"summarization\", model=model_name)\n",
    "tokenizer = AutoTokenizer.from_pretrained(model_name)\n",
    "def summarize_diff_node(state: PRState) -> PRState:\n",
    "    diff = state[\"diff\"]\n",
    "    \n",
    "    # Tokenize and truncate to 1024 tokens\n",
    "    tokens = tokenizer(diff, return_tensors=\"pt\", truncation=True, max_length=1024)\n",
    "    input_text = tokenizer.decode(tokens[\"input_ids\"][0], skip_special_tokens=True)\n",
    "\n",
    "    summary = summarizer(input_text, max_length=150, min_length=30, do_sample=False)[0][\"summary_text\"]\n",
    "    return {\"summary\": summary}\n",
    "\n",
    "# Hugging Face summarization model\n",
    "class PRState(TypedDict):\n",
    "    pr_url: str\n",
    "    diff: Optional[str]\n",
    "    summary: Optional[str]\n",
    "\n",
    "# Tool: fetch PR diff from GitHub\n",
    "def fetch_pr_diff(pr_url: str) -> str:\n",
    "    if \"github.com\" not in pr_url or \"/pull/\" not in pr_url:\n",
    "        raise ValueError(\"Invalid GitHub PR URL\")\n",
    "    \n",
    "    pr_api_url = pr_url.replace(\"github.com\", \"api.github.com/repos\").replace(\"/pull/\", \"/pulls/\")\n",
    "    diff_url = pr_api_url + \".diff\"\n",
    "    \n",
    "    response = requests.get(diff_url)\n",
    "    if response.status_code != 200:\n",
    "        raise Exception(f\"Failed to fetch diff: {response.status_code}\")\n",
    "    \n",
    "    return response.text[:5000]  # Limit for summarizer\n",
    "\n",
    "# Node: FetchPR\n",
    "def fetch_pr_node(state: PRState) -> PRState:\n",
    "    pr_url = state[\"pr_url\"]\n",
    "    diff = fetch_pr_diff(pr_url)\n",
    "    return {\"pr_url\": pr_url, \"diff\": diff}  # 👈 Include pr_url to preserve state\n",
    "\n",
    "\n",
    "\n",
    "# Create LangGraph Agent\n",
    "def build_agent():\n",
    "    builder = StateGraph(PRState)  # 👈 set schema here\n",
    "\n",
    "    builder.add_node(\"FetchPR\", fetch_pr_node)\n",
    "    builder.add_node(\"SummarizeDiff\", summarize_diff_node)\n",
    "\n",
    "    builder.set_entry_point(\"FetchPR\")\n",
    "    builder.add_edge(\"FetchPR\", \"SummarizeDiff\")\n",
    "    builder.add_edge(\"SummarizeDiff\", END)\n",
    "\n",
    "    return builder.compile()\n",
    "\n",
    "# Build the agent\n",
    "agent = build_agent()\n",
    "\n",
    "# Provide PR URL\n",
    "input_state = {\n",
    "    \"pr_url\": \"https://github.com/craftista/craftista/pull/11\"  # Replace with real PR URL\n",
    "}\n",
    "\n",
    "# Run the agent\n",
    "final_state = agent.invoke(input_state)\n",
    "\n",
    "# Print the summary\n",
    "print(\"Summary of PR diff:\")\n",
    "print(final_state[\"summary\"])\n"
   ]
  },
  {
   "cell_type": "code",
   "execution_count": null,
   "id": "8c579b37",
   "metadata": {},
   "outputs": [
    {
     "name": "stderr",
     "output_type": "stream",
     "text": [
      "Device set to use cpu\n"
     ]
    },
    {
     "name": "stdout",
     "output_type": "stream",
     "text": [
      "Generated summary:  User's view has been added to a yaml file on GitHub's pull request page . The code is available to download and use for the latest version of the app .\n",
      "{'id': '246896', 'key': 'BURQ-997', 'self': 'https://folio3.atlassian.net/rest/api/3/issue/246896'}\n",
      "{'ticket_id': 'BURQ-997', 'pr_url': 'https://github.com/craftista/craftista/pull/11', 'diff': '{\"url\":\"https://api.github.com/repos/craftista/craftista/pulls/11\",\"id\":1995565081,\"node_id\":\"PR_kwDOKfSwHc528egZ\",\"html_url\":\"https://github.com/craftista/craftista/pull/11\",\"diff_url\":\"https://github.com/craftista/craftista/pull/11.diff\",\"patch_url\":\"https://github.com/craftista/craftista/pull/11.patch\",\"issue_url\":\"https://api.github.com/repos/craftista/craftista/issues/11\",\"number\":11,\"state\":\"open\",\"locked\":false,\"title\":\"Feature x\",\"user\":{\"login\":\"mohitthakur9901\",\"id\":116665336,\"node_id\":\"U_kgDOBvQr-A\",\"avatar_url\":\"https://avatars.githubusercontent.com/u/116665336?v=4\",\"gravatar_id\":\"\",\"url\":\"https://api.github.com/users/mohitthakur9901\",\"html_url\":\"https://github.com/mohitthakur9901\",\"followers_url\":\"https://api.github.com/users/mohitthakur9901/followers\",\"following_url\":\"https://api.github.com/users/mohitthakur9901/following{/other_user}\",\"gists_url\":\"https://api.github.com/users/mohitthakur9901/gists{/gist_id}\",\"starred_url\":\"https://api.github.com/users/mohitthakur9901/starred{/owner}{/repo}\",\"subscriptions_url\":\"https://api.github.com/users/mohitthakur9901/subscriptions\",\"organizations_url\":\"https://api.github.com/users/mohitthakur9901/orgs\",\"repos_url\":\"https://api.github.com/users/mohitthakur9901/repos\",\"events_url\":\"https://api.github.com/users/mohitthakur9901/events{/privacy}\",\"received_events_url\":\"https://api.github.com/users/mohitthakur9901/received_events\",\"type\":\"User\",\"user_view_type\":\"public\",\"site_admin\":false},\"body\":\"add two yaml files \",\"created_at\":\"2024-07-31T04:55:04Z\",\"updated_at\":\"2024-07-31T04:55:04Z\",\"closed_at\":null,\"merged_at\":null,\"merge_commit_sha\":\"46047367cb685693efa233a252954261331e06eb\",\"assignee\":null,\"assignees\":[],\"requested_reviewers\":[],\"requested_teams\":[],\"labels\":[],\"milestone\":null,\"draft\":false,\"commits_url\":\"https://api.github.com/repos/craftista/craftista/pulls/11/commits\",\"review_comments_url\":\"https://api.github.com/repos/craftista/craftista/pulls/11/comments\",\"review_comment_url\":\"https://api.github.com/repos/craftista/craftista/pulls/comments{/number}\",\"comments_url\":\"https://api.github.com/repos/craftista/craftista/issues/11/comments\",\"statuses_url\":\"https://api.github.com/repos/craftista/craftista/statuses/2935b1b177fa09fee5e8871ba2e6185f8bc91ad5\",\"head\":{\"label\":\"mohitthakur9901:featureX\",\"ref\":\"featureX\",\"sha\":\"2935b1b177fa09fee5e8871ba2e6185f8bc91ad5\",\"user\":{\"login\":\"mohitthakur9901\",\"id\":116665336,\"node_id\":\"U_kgDOBvQr-A\",\"avatar_url\":\"https://avatars.githubusercontent.com/u/116665336?v=4\",\"gravatar_id\":\"\",\"url\":\"https://api.github.com/users/mohitthakur9901\",\"html_url\":\"https://github.com/mohitthakur9901\",\"followers_url\":\"https://api.github.com/users/mohitthakur9901/followers\",\"following_url\":\"https://api.github.com/users/mohitthakur9901/following{/other_user}\",\"gists_url\":\"https://api.github.com/users/mohitthakur9901/gists{/gist_id}\",\"starred_url\":\"https://api.github.com/users/mohitthakur9901/starred{/owner}{/repo}\",\"subscriptions_url\":\"https://api.github.com/users/mohitthakur9901/subscriptions\",\"organizations_url\":\"https://api.github.com/users/mohitthakur9901/orgs\",\"repos_url\":\"https://api.github.com/users/mohitthakur9901/repos\",\"events_url\":\"https://api.github.com/users/mohitthakur9901/events{/privacy}\",\"received_events_url\":\"https://api.github.com/users/mohitthakur9901/received_events\",\"type\":\"User\",\"user_view_type\":\"public\",\"site_admin\":false},\"repo\":{\"id\":835779072,\"node_id\":\"R_kgDOMdD6AA\",\"name\":\"craftista\",\"full_name\":\"mohitthakur9901/craftista\",\"private\":false,\"owner\":{\"login\":\"mohitthakur9901\",\"id\":116665336,\"node_id\":\"U_kgDOBvQr-A\",\"avatar_url\":\"https://avatars.githubusercontent.com/u/116665336?v=4\",\"gravatar_id\":\"\",\"url\":\"https://api.github.com/users/mohitthakur9901\",\"html_url\":\"https://github.com/mohitthakur9901\",\"followers_url\":\"https://api.github.com/users/mohitthakur9901/followers\",\"following_url\":\"https://api.github.com/users/mohitthakur9901/following{/other_user}\",\"gists_url\":\"https://api.github.com/users/mohitthakur9901/gists{/gist_id}\",\"starred_url\":\"https://api.github.com/users/mohitthakur9901/starred{/owner}{/repo}\",\"subscriptions_url\":\"https://api.github.com/users/mohitthakur9901/subscriptions\",\"organizations_url\":\"https://api.github.com/users/mohitthakur9901/orgs\",\"repos_url\":\"https://api.github.com/users/mohitthakur9901/repos\",\"events_url\":\"https://api.github.com/users/mohitthakur9901/events{/privacy}\",\"received_events_url\":\"https://api.github.com/users/mohitthakur9901/received_events\",\"type\":\"User\",\"user_view_type\":\"public\",\"site_admin\":false},\"html_url\":\"https://github.com/mohitthakur9901/craftista\",\"description\":\"Craftista - The Origami Store is a Devops Learning App created by School of Devops. \",\"fork\":true,\"url\":\"https://api.github.com/repos/mohitthakur9901/craftista\",\"forks_url\":\"https://api.github.com/repos/mohitthakur9901/craftista/forks\",\"keys_url\":\"https://api.github.com/repos/mohitthakur9901/craftista/keys{/key_id}\",\"collaborators_url\":\"https://api.github.com/repos/mohitthakur9901/craftista/collaborators{', 'summary': \" User's view has been added to a yaml file on GitHub's pull request page . The code is available to download and use for the latest version of the app .\"}\n",
      "Summary of PR diff:\n",
      " User's view has been added to a yaml file on GitHub's pull request page . The code is available to download and use for the latest version of the app .\n",
      "Created Jira Ticket: BURQ-997\n"
     ]
    },
    {
     "data": {
      "image/png": "[encoded data removed]",
      "text/plain": [
       "<IPython.core.display.Image object>"
      ]
     },
     "metadata": {},
     "output_type": "display_data"
    }
   ],
   "source": [
    "import requests\n",
    "from langgraph.graph import StateGraph, END\n",
    "from transformers import pipeline\n",
    "from typing import TypedDict, Optional\n",
    "from transformers import pipeline, AutoTokenizer\n",
    "import json\n",
    "from requests.auth import HTTPBasicAuth\n",
    "\n",
    "model_name = \"sshleifer/distilbart-cnn-12-6\"\n",
    "summarizer = pipeline(\"summarization\", model=model_name)\n",
    "tokenizer = AutoTokenizer.from_pretrained(model_name)\n",
    "\n",
    "def summarize_diff_node(state: PRState) -> PRState:\n",
    "    diff = state[\"diff\"]\n",
    "    \n",
    "    # Tokenize and truncate to 1024 tokens\n",
    "    tokens = tokenizer(diff, return_tensors=\"pt\", truncation=True, max_length=1024)\n",
    "    input_text = tokenizer.decode(tokens[\"input_ids\"][0], skip_special_tokens=True)\n",
    "\n",
    "    summary = summarizer(input_text, max_length=150, min_length=30, do_sample=False)[0][\"summary_text\"]\n",
    "    \n",
    "    print(f\"Generated summary: {summary}\")  # Debugging output to check summary\n",
    "    \n",
    "    return {\"summary\": summary}\n",
    "\n",
    "\n",
    "# Hugging Face summarization model\n",
    "class PRState(TypedDict):\n",
    "    ticket_id:str\n",
    "    pr_url: str\n",
    "    diff: Optional[str]\n",
    "    summary: Optional[str]\n",
    "\n",
    "# Tool: fetch PR diff from GitHub\n",
    "def fetch_pr_diff(pr_url: str) -> str:\n",
    "    if \"github.com\" not in pr_url or \"/pull/\" not in pr_url:\n",
    "        raise ValueError(\"Invalid GitHub PR URL\")\n",
    "    \n",
    "    pr_api_url = pr_url.replace(\"github.com\", \"api.github.com/repos\").replace(\"/pull/\", \"/pulls/\")\n",
    "    diff_url = pr_api_url + \".diff\"\n",
    "    \n",
    "    response = requests.get(diff_url)\n",
    "    if response.status_code != 200:\n",
    "        raise Exception(f\"Failed to fetch diff: {response.status_code}\")\n",
    "    \n",
    "    return response.text[:5000]  # Limit for summarizer\n",
    "\n",
    "# Node: FetchPR\n",
    "def fetch_pr_node(state: PRState) -> PRState:\n",
    "    pr_url = state[\"pr_url\"]\n",
    "    diff = fetch_pr_diff(pr_url)\n",
    "    return {\"pr_url\": pr_url, \"diff\": diff}  # 👈 Include pr_url to preserve state\n",
    "\n",
    "##Jira Integration: Create Ticket\n",
    "def create_jira_ticket(state: PRState) -> str:\n",
    "    summary = state[\"summary\"]  # Get the summary passed from the previous node\n",
    "    \n",
    "    # Check if summary is valid\n",
    "    if not summary or not isinstance(summary, str):\n",
    "        raise ValueError(\"Summary must be a valid non-empty string\")\n",
    "    # Jira API URL and Credentials\n",
    "    jira_domain = \"folio3.atlassian.net\"  # Correct Jira domain format\n",
    "    auth_email = \"salmanferoz@folio3.com\"  # Your Jira email\n",
    "    auth_token = \"\"  # Your Jira API token\n",
    "    project_key = \"BURQ\"  # Your Jira project key\n",
    "    \n",
    "    # Jira API endpoint to create issue\n",
    "    url = f\"https://{jira_domain}/rest/api/3/issue\"\n",
    "    \n",
    "    # Jira Issue Payload with ADF format for description\n",
    "    payload = {\n",
    "        \"fields\": {\n",
    "            \"project\": {\"key\": project_key},\n",
    "            \"summary\": summary,\n",
    "            \"description\": {\n",
    "                \"type\": \"doc\",\n",
    "                \"version\": 1,\n",
    "                \"content\": [\n",
    "                    {\n",
    "                        \"type\": \"paragraph\",\n",
    "                        \"content\": [\n",
    "                            {\n",
    "                                \"type\": \"text\",\n",
    "                                \"text\": summary  # Use summary in the description (as a simple text block)\n",
    "                            }\n",
    "                        ]\n",
    "                    }\n",
    "                ]\n",
    "            },\n",
    "            \"issuetype\": {\"name\": \"Task\"}\n",
    "        }\n",
    "    }\n",
    "    \n",
    "    headers = {\n",
    "        \"Accept\": \"application/json\",\n",
    "        \"Content-Type\": \"application/json\"\n",
    "    }\n",
    "    \n",
    "    response = requests.post(\n",
    "        url,\n",
    "        headers=headers,\n",
    "        data=json.dumps(payload),\n",
    "        auth=HTTPBasicAuth(auth_email, auth_token)\n",
    "    )\n",
    "    print(response.json())\n",
    "    if response.status_code == 201:\n",
    "        ticket_id = response.json()['key']\n",
    "        return {\"ticket_id\": ticket_id, \"summary\": summary}  # Return a dictionary with ticket_id and summary\n",
    "    else:\n",
    "        raise Exception(f\"Failed to create Jira ticket: {response.status_code}, {response.text}\")\n",
    "\n",
    "   \n",
    "# Create LangGraph Agent\n",
    "def build_agent():\n",
    "    builder = StateGraph(PRState)  # 👈 set schema here\n",
    "\n",
    "    # Add Nodes to the Graph\n",
    "    builder.add_node(\"FetchPR\", fetch_pr_node)  # Using fetch_pr_node instead of fetch_pr_diff\n",
    "    builder.add_node(\"SummarizeDiff\", summarize_diff_node)\n",
    "    builder.add_node(\"CreateJiraTicket\", create_jira_ticket)\n",
    "\n",
    "    # Set the Entry Point and Flow\n",
    "    builder.set_entry_point(\"FetchPR\")\n",
    "    builder.add_edge(\"FetchPR\", \"SummarizeDiff\")\n",
    "    builder.add_edge(\"SummarizeDiff\", \"CreateJiraTicket\")\n",
    "    builder.add_edge(\"CreateJiraTicket\", END)\n",
    "\n",
    "    return builder.compile()  # Ensure it returns the compiled agent\n",
    "\n",
    "# Build the agent\n",
    "agent = build_agent()\n",
    "\n",
    "# Check if agent is successfully created\n",
    "if agent is not None:\n",
    "    # Provide PR URL\n",
    "    input_state = {\n",
    "        \"pr_url\": \"https://github.com/craftista/craftista/pull/11\"  # Replace with real PR URL\n",
    "    }\n",
    "\n",
    "    # Run the agent\n",
    "    final_state = agent.invoke(input_state)\n",
    "    print(final_state)\n",
    "    # Print the summary\n",
    "    print(f\"Summary of PR diff:\\n{final_state['summary']}\")\n",
    "    print(f\"Created Jira Ticket: {final_state['ticket_id']}\")\n",
    "else:\n",
    "    print(\"Failed to build the agent\")\n",
    "    ## Display\n",
    "from IPython.display import Image, display\n",
    "display(Image(graph_builder.get_graph().draw_mermaid_png()))\n"
   ]
  },
  {
   "cell_type": "code",
   "execution_count": 77,
   "id": "549ae024",
   "metadata": {},
   "outputs": [
    {
     "data": {
      "image/png": "[encoded data removed]",
      "text/plain": [
       "<IPython.core.display.Image object>"
      ]
     },
     "metadata": {},
     "output_type": "display_data"
    }
   ],
   "source": [
    "from IPython.display import Image, display\n",
    "# Display the Mermaid diagram as PNG\n",
    "graph = agent.get_graph()\n",
    "png_data = graph.draw_mermaid_png()\n",
    "display(Image(data=png_data))"
   ]
  },
  {
   "cell_type": "code",
   "execution_count": null,
   "id": "0ea406ab",
   "metadata": {},
   "outputs": [],
   "source": []
  },
  {
   "cell_type": "code",
   "execution_count": null,
   "id": "88e12e2b",
   "metadata": {},
   "outputs": [],
   "source": []
  },
  {
   "cell_type": "code",
   "execution_count": null,
   "id": "0aaee75d",
   "metadata": {},
   "outputs": [],
   "source": []
  },
  {
   "cell_type": "code",
   "execution_count": null,
   "id": "6cb8afba",
   "metadata": {},
   "outputs": [],
   "source": []
  },
  {
   "cell_type": "code",
   "execution_count": null,
   "id": "77d818bc",
   "metadata": {},
   "outputs": [],
   "source": []
  },
  {
   "cell_type": "code",
   "execution_count": null,
   "id": "0d52ef75",
   "metadata": {},
   "outputs": [],
   "source": []
  },
  {
   "cell_type": "code",
   "execution_count": null,
   "id": "47eb8798",
   "metadata": {},
   "outputs": [],
   "source": []
  },
  {
   "cell_type": "code",
   "execution_count": null,
   "id": "d1063db0",
   "metadata": {},
   "outputs": [],
   "source": []
  },
  {
   "cell_type": "code",
   "execution_count": null,
   "id": "717963aa",
   "metadata": {},
   "outputs": [],
   "source": []
  },
  {
   "cell_type": "code",
   "execution_count": null,
   "id": "67f48158",
   "metadata": {},
   "outputs": [],
   "source": []
  }
 ],
 "metadata": {
  "kernelspec": {
   "display_name": "Python 3",
   "language": "python",
   "name": "python3"
  },
  "language_info": {
   "codemirror_mode": {
    "name": "ipython",
    "version": 3
   },
   "file_extension": ".py",
   "mimetype": "text/x-python",
   "name": "python",
   "nbconvert_exporter": "python",
   "pygments_lexer": "ipython3",
   "version": "3.12.0"
  }
 },
 "nbformat": 4,
 "nbformat_minor": 5
}
